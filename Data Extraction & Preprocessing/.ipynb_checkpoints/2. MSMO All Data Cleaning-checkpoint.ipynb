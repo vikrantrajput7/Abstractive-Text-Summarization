{
 "cells": [
  {
   "cell_type": "markdown",
   "metadata": {},
   "source": [
    "# All MSMO Data Cleaning"
   ]
  },
  {
   "cell_type": "markdown",
   "metadata": {},
   "source": [
    "## Importing necessary libraries"
   ]
  },
  {
   "cell_type": "code",
   "execution_count": 1,
   "metadata": {},
   "outputs": [],
   "source": [
    "import re\n",
    "import os\n",
    "from bs4 import BeautifulSoup\n",
    "from tqdm import tqdm"
   ]
  },
  {
   "cell_type": "markdown",
   "metadata": {},
   "source": [
    "### Contraction mapping dictionary"
   ]
  },
  {
   "cell_type": "code",
   "execution_count": 2,
   "metadata": {},
   "outputs": [],
   "source": [
    "contraction_mapping = {\"ain’t\": \"is not\", \"aren’t\": \"are not\",\"can’t\": \"cannot\", \"’cause\": \"because\", \"could’ve\": \"could have\", \"couldn’t\": \"could not\",\n",
    "                          \"didn’t\": \"did not\", \"doesn’t\": \"does not\", \"don’t\": \"do not\", \"hadn’t\": \"had not\", \"hasn’t\": \"has not\", \"haven’t\": \"have not\",\n",
    "                          \"he’d\": \"he would\",\"he’ll\": \"he will\", \"he’s\": \"he is\", \"how’d\": \"how did\", \"how’d’y\": \"how do you\", \"how’ll\": \"how will\", \"how’s\": \"how is\",\n",
    "                          \"I’d\": \"I would\", \"I’d’ve\": \"I would have\", \"I’ll\": \"I will\", \"I’ll’ve\": \"I will have\",\"I’m\": \"I am\", \"I’ve\": \"I have\", \"i’d\": \"i would\",\n",
    "                          \"i’d’ve\": \"i would have\", \"i’ll\": \"i will\",  \"i’ll’ve\": \"i will have\",\"i’m\": \"i am\", \"i’ve\": \"i have\", \"isn’t\": \"is not\", \"it’d\": \"it would\",\n",
    "                          \"it’d’ve\": \"it would have\", \"it’ll\": \"it will\", \"it’ll’ve\": \"it will have\",\"it’s\": \"it is\", \"let’s\": \"let us\", \"ma’am\": \"madam\",\n",
    "                          \"mayn’t\": \"may not\", \"might’ve\": \"might have\",\"mightn’t\": \"might not\",\"mightn’t’ve\": \"might not have\", \"must’ve\": \"must have\",\n",
    "                          \"mustn’t\": \"must not\", \"mustn’t’ve\": \"must not have\", \"needn’t\": \"need not\", \"needn’t’ve\": \"need not have\",\"o’clock\": \"of the clock\",\n",
    "                          \"oughtn’t\": \"ought not\", \"oughtn’t’ve\": \"ought not have\", \"shan’t\": \"shall not\", \"sha’n’t\": \"shall not\", \"shan’t’ve\": \"shall not have\",\n",
    "                          \"she’d\": \"she would\", \"she’d’ve\": \"she would have\", \"she’ll\": \"she will\", \"she’ll’ve\": \"she will have\", \"she’s\": \"she is\",\n",
    "                          \"should’ve\": \"should have\", \"shouldn’t\": \"should not\", \"shouldn’t’ve\": \"should not have\", \"so’ve\": \"so have\",\"so’s\": \"so as\",\n",
    "                          \"this’s\": \"this is\",\"that’d\": \"that would\", \"that’d’ve\": \"that would have\", \"that’s\": \"that is\", \"there’d\": \"there would\",\n",
    "                          \"there’d’ve\": \"there would have\", \"there’s\": \"there is\", \"here’s\": \"here is\",\"they’d\": \"they would\", \"they’d’ve\": \"they would have\",\n",
    "                          \"they’ll\": \"they will\", \"they’ll’ve\": \"they will have\", \"they’re\": \"they are\", \"they’ve\": \"they have\", \"to’ve\": \"to have\",\n",
    "                          \"wasn’t\": \"was not\", \"we’d\": \"we would\", \"we’d’ve\": \"we would have\", \"we’ll\": \"we will\", \"we’ll’ve\": \"we will have\", \"we’re\": \"we are\",\n",
    "                          \"we’ve\": \"we have\", \"weren’t\": \"were not\", \"what’ll\": \"what will\", \"what’ll’ve\": \"what will have\", \"what’re\": \"what are\",\n",
    "                          \"what’s\": \"what is\", \"what’ve\": \"what have\", \"when’s\": \"when is\", \"when’ve\": \"when have\", \"where’d\": \"where did\", \"where’s\": \"where is\",\n",
    "                          \"where’ve\": \"where have\", \"who’ll\": \"who will\", \"who’ll’ve\": \"who will have\", \"who’s\": \"who is\", \"who’ve\": \"who have\",\n",
    "                          \"why’s\": \"why is\", \"why’ve\": \"why have\", \"will’ve\": \"will have\", \"won’t\": \"will not\", \"won’t’ve\": \"will not have\",\n",
    "                          \"would’ve\": \"would have\", \"wouldn’t\": \"would not\", \"wouldn’t’ve\": \"would not have\", \"y’all\": \"you all\",\n",
    "                          \"y’all’d\": \"you all would\",\"y’all’d’ve\": \"you all would have\",\"y’all’re\": \"you all are\",\"y’all’ve\": \"you all have\",\n",
    "                          \"you’d\": \"you would\", \"you’d’ve\": \"you would have\", \"you’ll\": \"you will\", \"you’ll’ve\": \"you will have\",\n",
    "                          \"you’re\": \"you are\", \"you’ve\": \"you have\",\"ain't\": \"is not\", \"aren't\": \"are not\",\"can't\": \"cannot\", \"'cause\": \"because\", \"could've\": \"could have\", \"couldn't\": \"could not\",\n",
    "                          \"didn't\": \"did not\", \"doesn't\": \"does not\", \"don't\": \"do not\", \"hadn't\": \"had not\", \"hasn't\": \"has not\", \"haven't\": \"have not\",\n",
    "                          \"he'd\": \"he would\",\"he'll\": \"he will\", \"he's\": \"he is\", \"how'd\": \"how did\", \"how'd'y\": \"how do you\", \"how'll\": \"how will\", \"how's\": \"how is\",\n",
    "                          \"I'd\": \"I would\", \"I'd've\": \"I would have\", \"I'll\": \"I will\", \"I'll've\": \"I will have\",\"I'm\": \"I am\", \"I've\": \"I have\", \"i'd\": \"i would\",\n",
    "                          \"i'd've\": \"i would have\", \"i'll\": \"i will\",  \"i'll've\": \"i will have\",\"i'm\": \"i am\", \"i've\": \"i have\", \"isn't\": \"is not\", \"it'd\": \"it would\",\n",
    "                          \"it'd've\": \"it would have\", \"it'll\": \"it will\", \"it'll've\": \"it will have\",\"it's\": \"it is\", \"let's\": \"let us\", \"ma'am\": \"madam\",\n",
    "                          \"mayn't\": \"may not\", \"might've\": \"might have\",\"mightn't\": \"might not\",\"mightn't've\": \"might not have\", \"must've\": \"must have\",\n",
    "                          \"mustn't\": \"must not\", \"mustn't've\": \"must not have\", \"needn't\": \"need not\", \"needn't've\": \"need not have\",\"o'clock\": \"of the clock\",\n",
    "                          \"oughtn't\": \"ought not\", \"oughtn't've\": \"ought not have\", \"shan't\": \"shall not\", \"sha'n't\": \"shall not\", \"shan't've\": \"shall not have\",\n",
    "                          \"she'd\": \"she would\", \"she'd've\": \"she would have\", \"she'll\": \"she will\", \"she'll've\": \"she will have\", \"she's\": \"she is\",\n",
    "                          \"should've\": \"should have\", \"shouldn't\": \"should not\", \"shouldn't've\": \"should not have\", \"so've\": \"so have\",\"so's\": \"so as\",\n",
    "                          \"this's\": \"this is\",\"that'd\": \"that would\", \"that'd've\": \"that would have\", \"that's\": \"that is\", \"there'd\": \"there would\",\n",
    "                          \"there'd've\": \"there would have\", \"there's\": \"there is\", \"here's\": \"here is\",\"they'd\": \"they would\", \"they'd've\": \"they would have\",\n",
    "                          \"they'll\": \"they will\", \"they'll've\": \"they will have\", \"they're\": \"they are\", \"they've\": \"they have\", \"to've\": \"to have\",\n",
    "                          \"wasn't\": \"was not\", \"we'd\": \"we would\", \"we'd've\": \"we would have\", \"we'll\": \"we will\", \"we'll've\": \"we will have\", \"we're\": \"we are\",\n",
    "                          \"we've\": \"we have\", \"weren't\": \"were not\", \"what'll\": \"what will\", \"what'll've\": \"what will have\", \"what're\": \"what are\",\n",
    "                          \"what's\": \"what is\", \"what've\": \"what have\", \"when's\": \"when is\", \"when've\": \"when have\", \"where'd\": \"where did\", \"where's\": \"where is\",\n",
    "                          \"where've\": \"where have\", \"who'll\": \"who will\", \"who'll've\": \"who will have\", \"who's\": \"who is\", \"who've\": \"who have\",\n",
    "                          \"why's\": \"why is\", \"why've\": \"why have\", \"will've\": \"will have\", \"won't\": \"will not\", \"won't've\": \"will not have\",\n",
    "                          \"would've\": \"would have\", \"wouldn't\": \"would not\", \"wouldn't've\": \"would not have\", \"y'all\": \"you all\",\n",
    "                          \"y'all'd\": \"you all would\",\"y'all'd've\": \"you all would have\",\"y'all're\": \"you all are\",\"y'all've\": \"you all have\",\n",
    "                          \"you'd\": \"you would\", \"you'd've\": \"you would have\", \"you'll\": \"you will\", \"you'll've\": \"you will have\",\n",
    "                          \"you're\": \"you are\", \"you've\": \"you have\",\"n't\":'not'}"
   ]
  },
  {
   "cell_type": "markdown",
   "metadata": {},
   "source": [
    "## Data Cleaning function"
   ]
  },
  {
   "cell_type": "code",
   "execution_count": 3,
   "metadata": {},
   "outputs": [],
   "source": [
    "def data_clean(doc,contraction_mapping):\n",
    "    clean=[]\n",
    "    for i in tqdm(doc):\n",
    "        low=str(i).lower()\n",
    "        soup=BeautifulSoup(low,'lxml')\n",
    "        low=soup.text\n",
    "        low=re.sub(\" '\",\"'\",low)\n",
    "        low=re.sub(\" n't\",\"n't\",low)\n",
    "        sent=[]\n",
    "        for m in (low.split()):\n",
    "            if m in contraction_mapping:\n",
    "                sent.append(contraction_mapping[m])\n",
    "            else:\n",
    "                sent.append(m)\n",
    "        jnt=' '.join(sent)\n",
    "        low=re.sub(\"'s\",\"\",jnt)\n",
    "        low=re.sub(\"’s\",\"\",low)\n",
    "        new=re.sub(\"\\n\",'',low)\n",
    "        new=re.sub(r'[\\$\\\"\\(\\)\\)\\#\\:\\@\\=\\>\\<\\-\\`\\-\\-\\/\\;\\‘\\£\\%\\*\\—]',' ',new)\n",
    "        new=re.sub(\",\",'',new)\n",
    "        new=re.sub('\\!','.',new)\n",
    "        new=re.sub('\\?','.',new)\n",
    "        new=re.sub(\"'\",'',new)\n",
    "        new=re.sub(\"°\",'',new)\n",
    "        new=re.sub(\"\\.\\.\\.\",'.',new)\n",
    "        new=re.sub(r\"[^a-zA-Z0-9]\",' ',new)\n",
    "        new=(re.sub(r'[\\s]+',' ',new)).strip()\n",
    "        clean.append(new)\n",
    "    return clean"
   ]
  },
  {
   "cell_type": "markdown",
   "metadata": {},
   "source": [
    "## Cleaning Source and target Train Documents"
   ]
  },
  {
   "cell_type": "code",
   "execution_count": 4,
   "metadata": {},
   "outputs": [
    {
     "name": "stdout",
     "output_type": "stream",
     "text": [
      "Cleaning Source Training Data\n"
     ]
    },
    {
     "name": "stderr",
     "output_type": "stream",
     "text": [
      "100%|██████████| 293625/293625 [07:19<00:00, 668.69it/s] \n",
      "100%|██████████| 293625/293625 [00:01<00:00, 246522.56it/s]\n"
     ]
    },
    {
     "name": "stdout",
     "output_type": "stream",
     "text": [
      "Cleaning Target Training Data\n"
     ]
    },
    {
     "name": "stderr",
     "output_type": "stream",
     "text": [
      "100%|██████████| 293625/293625 [02:19<00:00, 2108.51it/s]\n",
      "100%|██████████| 293625/293625 [00:00<00:00, 733552.95it/s]\n"
     ]
    }
   ],
   "source": [
    "print(\"Cleaning Source Training Data\")\n",
    "\n",
    "# Reading file\n",
    "with open(\"train_document.txt\",'r') as file:\n",
    "    doc=file.readlines()\n",
    "    \n",
    "#Cleaning Data\n",
    "final_data=data_clean(doc,contraction_mapping)\n",
    "\n",
    "#Saving back to file\n",
    "with open(\"src-train.txt\",'w') as file:\n",
    "    for summary in tqdm(final_data):\n",
    "        file.write(summary+'\\n')\n",
    "        \n",
    "print(\"Cleaning Target Training Data\")\n",
    "\n",
    "# Reading file\n",
    "with open(\"train_title.txt\",'r') as file:\n",
    "    doc=file.readlines()\n",
    "    \n",
    "#Cleaning Data\n",
    "final_data=data_clean(doc,contraction_mapping)\n",
    "\n",
    "#Saving back to file\n",
    "with open(\"tgt-train.txt\",'w') as file:\n",
    "    for summary in tqdm(final_data):\n",
    "        file.write(summary+'\\n')\n"
   ]
  },
  {
   "cell_type": "markdown",
   "metadata": {},
   "source": [
    "## Cleaning Source and target Validation Documents"
   ]
  },
  {
   "cell_type": "code",
   "execution_count": 8,
   "metadata": {},
   "outputs": [
    {
     "name": "stderr",
     "output_type": "stream",
     "text": [
      "  1%|          | 105/10339 [00:00<00:09, 1045.53it/s]"
     ]
    },
    {
     "name": "stdout",
     "output_type": "stream",
     "text": [
      "Cleaning Source Validation Data\n"
     ]
    },
    {
     "name": "stderr",
     "output_type": "stream",
     "text": [
      "100%|██████████| 10339/10339 [00:13<00:00, 744.13it/s]\n",
      "100%|██████████| 10339/10339 [00:00<00:00, 120617.90it/s]\n",
      "  2%|▏         | 188/10339 [00:00<00:05, 1878.36it/s]"
     ]
    },
    {
     "name": "stdout",
     "output_type": "stream",
     "text": [
      "Cleaning Target Validation Data\n"
     ]
    },
    {
     "name": "stderr",
     "output_type": "stream",
     "text": [
      "100%|██████████| 10339/10339 [00:05<00:00, 2016.30it/s]\n",
      "100%|██████████| 10339/10339 [00:00<00:00, 671553.71it/s]\n"
     ]
    }
   ],
   "source": [
    "print(\"Cleaning Source Validation Data\")\n",
    "\n",
    "# Reading file\n",
    "with open(\"val_document.txt\",'r') as file:\n",
    "    doc=file.readlines()\n",
    "    \n",
    "#Cleaning Data\n",
    "final_data=data_clean(doc,contraction_mapping)\n",
    "\n",
    "#Saving back to file\n",
    "with open(\"src-val.txt\",'w') as file:\n",
    "    for summary in tqdm(final_data):\n",
    "        file.write(summary+'\\n')\n",
    "        \n",
    "print(\"Cleaning Target Validation Data\")\n",
    "\n",
    "# Reading file\n",
    "with open(\"val_title.txt\",'r') as file:\n",
    "    doc=file.readlines()\n",
    "    \n",
    "#Cleaning Data\n",
    "final_data=data_clean(doc,contraction_mapping)\n",
    "\n",
    "#Saving back to file\n",
    "with open(\"tgt-val.txt\",'w') as file:\n",
    "    for summary in tqdm(final_data):\n",
    "        file.write(summary+'\\n')\n"
   ]
  },
  {
   "cell_type": "markdown",
   "metadata": {},
   "source": [
    "## Cleaning Source and target Test Documents"
   ]
  },
  {
   "cell_type": "code",
   "execution_count": 9,
   "metadata": {},
   "outputs": [
    {
     "name": "stderr",
     "output_type": "stream",
     "text": [
      "  0%|          | 51/10245 [00:00<00:20, 505.54it/s]"
     ]
    },
    {
     "name": "stdout",
     "output_type": "stream",
     "text": [
      "Cleaning Source Test Data\n"
     ]
    },
    {
     "name": "stderr",
     "output_type": "stream",
     "text": [
      "100%|██████████| 10245/10245 [00:18<00:00, 560.57it/s]\n",
      "100%|██████████| 10245/10245 [00:00<00:00, 100250.90it/s]\n",
      "  2%|▏         | 179/10245 [00:00<00:05, 1782.84it/s]"
     ]
    },
    {
     "name": "stdout",
     "output_type": "stream",
     "text": [
      "Cleaning Target Source Data\n"
     ]
    },
    {
     "name": "stderr",
     "output_type": "stream",
     "text": [
      "100%|██████████| 10245/10245 [00:05<00:00, 1897.39it/s]\n",
      "100%|██████████| 10245/10245 [00:00<00:00, 401527.26it/s]\n"
     ]
    }
   ],
   "source": [
    "print(\"Cleaning Source Test Data\")\n",
    "\n",
    "# Reading file\n",
    "with open(\"test_document.txt\",'r') as file:\n",
    "    doc=file.readlines()\n",
    "    \n",
    "#Cleaning Data\n",
    "final_data=data_clean(doc,contraction_mapping)\n",
    "\n",
    "#Saving back to file\n",
    "with open(\"src-test.txt\",'w') as file:\n",
    "    for summary in tqdm(final_data):\n",
    "        file.write(summary+'\\n')\n",
    "        \n",
    "print(\"Cleaning Target Source Data\")\n",
    "\n",
    "# Reading file\n",
    "with open(\"test_title.txt\",'r') as file:\n",
    "    doc=file.readlines()\n",
    "    \n",
    "#Cleaning Data\n",
    "final_data=data_clean(doc,contraction_mapping)\n",
    "\n",
    "#Saving back to file\n",
    "with open(\"tgt-test.txt\",'w') as file:\n",
    "    for summary in tqdm(final_data):\n",
    "        file.write(summary+'\\n')\n"
   ]
  }
 ],
 "metadata": {
  "kernelspec": {
   "display_name": "Python 3",
   "language": "python",
   "name": "python3"
  },
  "language_info": {
   "codemirror_mode": {
    "name": "ipython",
    "version": 3
   },
   "file_extension": ".py",
   "mimetype": "text/x-python",
   "name": "python",
   "nbconvert_exporter": "python",
   "pygments_lexer": "ipython3",
   "version": "3.8.5"
  }
 },
 "nbformat": 4,
 "nbformat_minor": 4
}
