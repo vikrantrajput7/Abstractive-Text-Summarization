{
 "cells": [
  {
   "cell_type": "markdown",
   "metadata": {},
   "source": [
    "## Importing necessary libraries"
   ]
  },
  {
   "cell_type": "code",
   "execution_count": 1,
   "metadata": {},
   "outputs": [],
   "source": [
    "import re\n",
    "from tqdm import tqdm"
   ]
  },
  {
   "cell_type": "markdown",
   "metadata": {},
   "source": [
    "# Truncating documents"
   ]
  },
  {
   "cell_type": "markdown",
   "metadata": {},
   "source": [
    "Truncating Source documents after 110 words and target summary after 26 words"
   ]
  },
  {
   "cell_type": "markdown",
   "metadata": {},
   "source": [
    "### Training data truncation"
   ]
  },
  {
   "cell_type": "code",
   "execution_count": 5,
   "metadata": {},
   "outputs": [
    {
     "name": "stderr",
     "output_type": "stream",
     "text": [
      "100%|██████████| 293625/293625 [00:08<00:00, 33149.65it/s]\n",
      "100%|██████████| 293625/293625 [00:00<00:00, 576180.82it/s]\n"
     ]
    }
   ],
   "source": [
    "# Source train data truncation\n",
    "with open(\"src-train.txt\",'r') as summary:\n",
    "    doc=summary.readlines()\n",
    "    summary= [re.sub('\\n','',i) for i in doc]\n",
    "    \n",
    "with open(\"./truncated_docs/t-src-train.txt\",'w') as file:  \n",
    "    final=[]\n",
    "    for line in tqdm(summary):\n",
    "        split=line.split()\n",
    "        if len(split) > 110:\n",
    "            trunc_list=split[0:110]\n",
    "            final.append(' '.join(trunc_list))\n",
    "        else:\n",
    "            final.append(line)\n",
    "    for line in final:\n",
    "        file.write(line+\"\\n\")\n",
    "        \n",
    "# Target train data truncation\n",
    "with open(\"tgt-train.txt\",'r') as summary:\n",
    "    doc=summary.readlines()\n",
    "    summary= [re.sub('\\n','',i) for i in doc]\n",
    "    \n",
    "with open(\"./truncated_docs/t-tgt-train.txt\",'w') as file:  \n",
    "    final=[]\n",
    "    for line in tqdm(summary):\n",
    "        split=line.split()\n",
    "        if len(split) > 26:\n",
    "            trunc_list=split[0:26]\n",
    "            final.append(' '.join(trunc_list))\n",
    "        else:\n",
    "            final.append(line)\n",
    "    for line in final:\n",
    "        file.write(line+\"\\n\")"
   ]
  },
  {
   "cell_type": "markdown",
   "metadata": {},
   "source": [
    "## Validation Data Truncation"
   ]
  },
  {
   "cell_type": "code",
   "execution_count": 3,
   "metadata": {},
   "outputs": [
    {
     "name": "stderr",
     "output_type": "stream",
     "text": [
      "100%|██████████| 10339/10339 [00:00<00:00, 30606.04it/s]\n",
      "100%|██████████| 10339/10339 [00:00<00:00, 533151.08it/s]\n"
     ]
    }
   ],
   "source": [
    "# Source validation data truncation\n",
    "with open(\"src-val.txt\",'r') as summary:\n",
    "    doc=summary.readlines()\n",
    "    summary= [re.sub('\\n','',i) for i in doc]\n",
    "    \n",
    "with open(\"./truncated_docs/t-src-val.txt\",'w') as file:  \n",
    "    final=[]\n",
    "    for line in tqdm(summary):\n",
    "        split=line.split()\n",
    "        if len(split) > 110:\n",
    "            trunc_list=split[0:110]\n",
    "            final.append(' '.join(trunc_list))\n",
    "        else:\n",
    "            final.append(line)\n",
    "    for line in final:\n",
    "        file.write(line+\"\\n\")\n",
    "        \n",
    "# Target Validation data truncation\n",
    "with open(\"tgt-val.txt\",'r') as summary:\n",
    "    doc=summary.readlines()\n",
    "    summary= [re.sub('\\n','',i) for i in doc]\n",
    "    \n",
    "with open(\"./truncated_docs/t-tgt-val.txt\",'w') as file:  \n",
    "    final=[]\n",
    "    for line in tqdm(summary):\n",
    "        split=line.split()\n",
    "        if len(split) > 26:\n",
    "            trunc_list=split[0:26]\n",
    "            final.append(' '.join(trunc_list))\n",
    "        else:\n",
    "            final.append(line)\n",
    "    for line in final:\n",
    "        file.write(line+\"\\n\")"
   ]
  },
  {
   "cell_type": "markdown",
   "metadata": {},
   "source": [
    "## Test data truncation"
   ]
  },
  {
   "cell_type": "code",
   "execution_count": 4,
   "metadata": {},
   "outputs": [
    {
     "name": "stderr",
     "output_type": "stream",
     "text": [
      "100%|██████████| 10245/10245 [00:00<00:00, 32422.89it/s]\n",
      "100%|██████████| 10245/10245 [00:00<00:00, 516996.06it/s]\n"
     ]
    }
   ],
   "source": [
    "# Source test data truncation\n",
    "with open(\"src-test.txt\",'r') as summary:\n",
    "    doc=summary.readlines()\n",
    "    summary= [re.sub('\\n','',i) for i in doc]\n",
    "    \n",
    "with open(\"./truncated_docs/t-src-test.txt\",'w') as file:  \n",
    "    final=[]\n",
    "    for line in tqdm(summary):\n",
    "        split=line.split()\n",
    "        if len(split) > 110:\n",
    "            trunc_list=split[0:110]\n",
    "            final.append(' '.join(trunc_list))\n",
    "        else:\n",
    "            final.append(line)\n",
    "    for line in final:\n",
    "        file.write(line+\"\\n\")\n",
    "        \n",
    "# Target Validation data truncation\n",
    "with open(\"tgt-test.txt\",'r') as summary:\n",
    "    doc=summary.readlines()\n",
    "    summary= [re.sub('\\n','',i) for i in doc]\n",
    "    \n",
    "with open(\"./truncated_docs/t-tgt-test.txt\",'w') as file:  \n",
    "    final=[]\n",
    "    for line in tqdm(summary):\n",
    "        split=line.split()\n",
    "        if len(split) > 26:\n",
    "            trunc_list=split[0:26]\n",
    "            final.append(' '.join(trunc_list))\n",
    "        else:\n",
    "            final.append(line)\n",
    "    for line in final:\n",
    "        file.write(line+\"\\n\")"
   ]
  }
 ],
 "metadata": {
  "kernelspec": {
   "display_name": "Python 3",
   "language": "python",
   "name": "python3"
  },
  "language_info": {
   "codemirror_mode": {
    "name": "ipython",
    "version": 3
   },
   "file_extension": ".py",
   "mimetype": "text/x-python",
   "name": "python",
   "nbconvert_exporter": "python",
   "pygments_lexer": "ipython3",
   "version": "3.8.5"
  }
 },
 "nbformat": 4,
 "nbformat_minor": 4
}
